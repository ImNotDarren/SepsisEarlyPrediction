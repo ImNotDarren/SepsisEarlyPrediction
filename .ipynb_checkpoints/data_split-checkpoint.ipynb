{
 "cells": [
  {
   "cell_type": "code",
   "execution_count": 23,
   "id": "d3d71ca3",
   "metadata": {},
   "outputs": [],
   "source": [
    "import os\n",
    "import pandas as pd\n",
    "import numpy as np\n",
    "import random"
   ]
  },
  {
   "cell_type": "code",
   "execution_count": 20,
   "id": "efdf3109",
   "metadata": {},
   "outputs": [],
   "source": [
    "data_path = 'dataset/training_setA/'\n",
    "train_path = 'dataset/raw/train/'\n",
    "val_path = 'dataset/raw/val/'\n",
    "test_path = 'dataset/raw/test/'\n",
    "\n",
    "pid = sorted(os.listdir(data_path))[1:]\n",
    "\n",
    "train_num = round(0.7*len(pid)) + 1\n",
    "val_num = round(0.15*len(pid))\n",
    "test_num = round(0.15*len(pid))"
   ]
  },
  {
   "cell_type": "code",
   "execution_count": 21,
   "id": "bc2782b2",
   "metadata": {},
   "outputs": [
    {
     "data": {
      "text/plain": [
       "0"
      ]
     },
     "execution_count": 21,
     "metadata": {},
     "output_type": "execute_result"
    }
   ],
   "source": [
    "len(pid) - train_num - val_num - test_num"
   ]
  },
  {
   "cell_type": "code",
   "execution_count": 24,
   "id": "7fe60f6c",
   "metadata": {},
   "outputs": [],
   "source": [
    "# data split\n",
    "train = random.sample(pid, train_num)\n",
    "val = random.sample(set(pid)-set(train), val_num)\n",
    "test = set(pid) - set(train) - set(val)\n",
    "\n",
    "for p in train:\n",
    "    df = pd.read_csv(data_path + p, sep='|')\n",
    "    df.to_csv(train_path + p, sep='|', index=False)\n",
    "\n",
    "for p in val:\n",
    "    df = pd.read_csv(data_path + p, sep='|')\n",
    "    df.to_csv(val_path + p, sep='|', index=False)\n",
    "    \n",
    "for p in test:\n",
    "    df = pd.read_csv(data_path + p, sep='|')\n",
    "    df.to_csv(test_path + p, sep='|', index=False)"
   ]
  },
  {
   "cell_type": "code",
   "execution_count": null,
   "id": "fe403cbb",
   "metadata": {},
   "outputs": [],
   "source": []
  }
 ],
 "metadata": {
  "kernelspec": {
   "display_name": "Python 3 (classification)",
   "language": "python",
   "name": "classification"
  },
  "language_info": {
   "codemirror_mode": {
    "name": "ipython",
    "version": 3
   },
   "file_extension": ".py",
   "mimetype": "text/x-python",
   "name": "python",
   "nbconvert_exporter": "python",
   "pygments_lexer": "ipython3",
   "version": "3.8.13"
  }
 },
 "nbformat": 4,
 "nbformat_minor": 5
}
