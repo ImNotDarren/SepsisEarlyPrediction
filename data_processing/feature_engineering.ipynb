{
 "cells": [
  {
   "cell_type": "code",
   "execution_count": 59,
   "id": "ba55e5c2",
   "metadata": {},
   "outputs": [],
   "source": [
    "import pandas as pd"
   ]
  },
  {
   "cell_type": "code",
   "execution_count": 60,
   "id": "5764bf6b",
   "metadata": {},
   "outputs": [],
   "source": [
    "train_df = pd.read_csv('../dataset/train_cleaned.csv', sep='|')\n",
    "val_df = pd.read_csv('../dataset/val_cleaned.csv', sep='|')"
   ]
  },
  {
   "cell_type": "markdown",
   "id": "c6f694d3",
   "metadata": {},
   "source": [
    "### HR"
   ]
  },
  {
   "cell_type": "code",
   "execution_count": 61,
   "id": "61ddc30e",
   "metadata": {},
   "outputs": [],
   "source": [
    "def get_hr_label(df):\n",
    "    df.loc[df.HR > 90, 'hr_label'] = 1\n",
    "    df.loc[df.HR <= 90, 'hr_label'] = 0\n",
    "    \n",
    "    return df"
   ]
  },
  {
   "cell_type": "code",
   "execution_count": 62,
   "id": "047417a4",
   "metadata": {},
   "outputs": [],
   "source": [
    "train_df = get_hr_label(train_df)\n",
    "val_df = get_hr_label(val_df)"
   ]
  },
  {
   "cell_type": "markdown",
   "id": "172b36a4",
   "metadata": {},
   "source": [
    "### Age"
   ]
  },
  {
   "cell_type": "code",
   "execution_count": 63,
   "id": "c8ddb07d",
   "metadata": {},
   "outputs": [],
   "source": [
    "def get_age_label(df):\n",
    "    df.loc[df.Age >= 80, 'age_label'] = 1 # old\n",
    "    df.loc[(df.Age >= 18) & (df.Age < 80), 'age_label'] = 0 # adult\n",
    "    \n",
    "    return df"
   ]
  },
  {
   "cell_type": "code",
   "execution_count": 64,
   "id": "a075c5c7",
   "metadata": {},
   "outputs": [],
   "source": [
    "train_df = get_age_label(train_df)\n",
    "val_df = get_age_label(val_df)"
   ]
  },
  {
   "cell_type": "markdown",
   "id": "499d9c5f",
   "metadata": {},
   "source": [
    "### Temp"
   ]
  },
  {
   "cell_type": "code",
   "execution_count": 65,
   "id": "beb96163",
   "metadata": {},
   "outputs": [],
   "source": [
    "def get_temp_label(df):\n",
    "    df.loc[(df.Temp >= 38) | (df.Temp <= 36), 'temp_label'] = 0\n",
    "    df.loc[(df.Temp < 38) & (df.Temp > 36), 'temp_label'] = 1\n",
    "    \n",
    "    return df"
   ]
  },
  {
   "cell_type": "code",
   "execution_count": 66,
   "id": "2a46891d",
   "metadata": {},
   "outputs": [],
   "source": [
    "train_df = get_temp_label(train_df)\n",
    "val_df = get_temp_label(val_df)"
   ]
  },
  {
   "cell_type": "markdown",
   "id": "5c610fcb",
   "metadata": {},
   "source": [
    "### Resp"
   ]
  },
  {
   "cell_type": "markdown",
   "id": "0c21b72f",
   "metadata": {},
   "source": [
    "normal respiration rate:\n",
    "- 0 ~ 1 30 ~ 60\n",
    "- 1 ~ 3 24 ~ 40\n",
    "- 3 ~ 6 22 ~ 34\n",
    "- 6 ~ 12 18 ~ 30\n",
    "- 12 ~ 18 12 ~ 16\n",
    "- 18+ 12 ~ 20"
   ]
  },
  {
   "cell_type": "code",
   "execution_count": 67,
   "id": "07cb5ba1",
   "metadata": {},
   "outputs": [],
   "source": [
    "def get_resp_label(df):\n",
    "    # normal\n",
    "    df.loc[(df.Resp.between(30, 60)) & (df.Age <= 1), 'resp_label'] = '0'\n",
    "    df.loc[(df.Resp.between(24, 40)) & (df.Age.between(2, 3)), 'resp_label'] = '0'\n",
    "    df.loc[(df.Resp.between(22, 34)) & (df.Age.between(4, 6)), 'resp_label'] = '0'\n",
    "    df.loc[(df.Resp.between(18, 30)) & (df.Age.between(7, 12)), 'resp_label'] = '0'\n",
    "    df.loc[(df.Resp.between(12, 16)) & (df.Age.between(13, 17)), 'resp_label'] = '0'\n",
    "    df.loc[(df.Resp.between(12, 20)) & (df.Age >= 18), 'resp_label'] = '0'\n",
    "    \n",
    "    # abnormal\n",
    "    df.loc[((df.Resp < 30) | (df.Resp > 60)) & (df.Age <= 1), 'resp_label'] = '1'\n",
    "    df.loc[((df.Resp < 24) | (df.Resp > 40)) & (df.Age.between(2, 3)), 'resp_label'] = '1'\n",
    "    df.loc[((df.Resp < 22) | (df.Resp > 34)) & (df.Age.between(4, 6)), 'resp_label'] = '1'\n",
    "    df.loc[((df.Resp < 18) | (df.Resp > 30)) & (df.Age.between(7, 12)), 'resp_label'] = '1'\n",
    "    df.loc[((df.Resp < 12) | (df.Resp > 16)) & (df.Age.between(13, 17)), 'resp_label'] = '1'\n",
    "    df.loc[((df.Resp < 12) | (df.Resp > 20)) & (df.Age >= 18), 'resp_label'] = '1'\n",
    "    \n",
    "    return df"
   ]
  },
  {
   "cell_type": "code",
   "execution_count": 68,
   "id": "555d8c43",
   "metadata": {},
   "outputs": [],
   "source": [
    "train_df = get_resp_label(train_df)\n",
    "val_df = get_resp_label(val_df)"
   ]
  },
  {
   "cell_type": "markdown",
   "id": "b47055c6",
   "metadata": {},
   "source": [
    "### PaCO2"
   ]
  },
  {
   "cell_type": "code",
   "execution_count": 69,
   "id": "00e34047",
   "metadata": {},
   "outputs": [],
   "source": [
    "def get_paco2_label(df):\n",
    "    df.loc[df.PaCO2 < 32, 'paco2_label'] = 1\n",
    "    df.loc[df.PaCO2 >= 32, 'paco2_label'] = 0\n",
    "    \n",
    "    return df"
   ]
  },
  {
   "cell_type": "code",
   "execution_count": 70,
   "id": "94e2807b",
   "metadata": {},
   "outputs": [],
   "source": [
    "train_df = get_paco2_label(train_df)\n",
    "val_df = get_paco2_label(val_df)"
   ]
  },
  {
   "cell_type": "markdown",
   "id": "666d6707",
   "metadata": {},
   "source": [
    "### SBP"
   ]
  },
  {
   "cell_type": "code",
   "execution_count": 71,
   "id": "7a17d089",
   "metadata": {},
   "outputs": [],
   "source": [
    "def get_sbp_label(df):\n",
    "    df.loc[df.SBP <= 100, 'sbp_label'] = 1\n",
    "    df.loc[df.SBP > 100, 'sbp_label'] = 0\n",
    "    \n",
    "    return df"
   ]
  },
  {
   "cell_type": "code",
   "execution_count": 72,
   "id": "964a93e4",
   "metadata": {},
   "outputs": [],
   "source": [
    "train_df = get_sbp_label(train_df)\n",
    "val_df = get_sbp_label(val_df)"
   ]
  },
  {
   "cell_type": "markdown",
   "id": "dc3eb380",
   "metadata": {},
   "source": [
    "### MAP"
   ]
  },
  {
   "cell_type": "code",
   "execution_count": 89,
   "id": "30562053",
   "metadata": {},
   "outputs": [],
   "source": [
    "# mean arterial pressure\n",
    "# normal between 70 and 100\n",
    "def get_map_label(df):\n",
    "    df.loc[df.MAP.between(70, 100), 'map_label'] = 0\n",
    "    df.loc[(df.MAP > 100) | (df.MAP < 70), 'map_label'] = 1\n",
    "    \n",
    "    return df"
   ]
  },
  {
   "cell_type": "code",
   "execution_count": 90,
   "id": "561975c6",
   "metadata": {},
   "outputs": [],
   "source": [
    "train_df = get_map_label(train_df)\n",
    "val_df = get_map_label(val_df)"
   ]
  },
  {
   "cell_type": "code",
   "execution_count": 91,
   "id": "2ff5cbcf",
   "metadata": {},
   "outputs": [
    {
     "data": {
      "text/html": [
       "<div>\n",
       "<style scoped>\n",
       "    .dataframe tbody tr th:only-of-type {\n",
       "        vertical-align: middle;\n",
       "    }\n",
       "\n",
       "    .dataframe tbody tr th {\n",
       "        vertical-align: top;\n",
       "    }\n",
       "\n",
       "    .dataframe thead th {\n",
       "        text-align: right;\n",
       "    }\n",
       "</style>\n",
       "<table border=\"1\" class=\"dataframe\">\n",
       "  <thead>\n",
       "    <tr style=\"text-align: right;\">\n",
       "      <th></th>\n",
       "      <th>patient_id</th>\n",
       "      <th>HR</th>\n",
       "      <th>O2Sat</th>\n",
       "      <th>Temp</th>\n",
       "      <th>SBP</th>\n",
       "      <th>MAP</th>\n",
       "      <th>DBP</th>\n",
       "      <th>Resp</th>\n",
       "      <th>BaseExcess</th>\n",
       "      <th>HCO3</th>\n",
       "      <th>...</th>\n",
       "      <th>HospAdmTime</th>\n",
       "      <th>ICULOS</th>\n",
       "      <th>SepsisLabel</th>\n",
       "      <th>age_label</th>\n",
       "      <th>hr_label</th>\n",
       "      <th>temp_label</th>\n",
       "      <th>resp_label</th>\n",
       "      <th>paco2_label</th>\n",
       "      <th>sbp_label</th>\n",
       "      <th>map_label</th>\n",
       "    </tr>\n",
       "  </thead>\n",
       "  <tbody>\n",
       "    <tr>\n",
       "      <th>0</th>\n",
       "      <td>1</td>\n",
       "      <td>87.0</td>\n",
       "      <td>98.0</td>\n",
       "      <td>36.30</td>\n",
       "      <td>94.5</td>\n",
       "      <td>71.5</td>\n",
       "      <td>-999.0</td>\n",
       "      <td>21.0</td>\n",
       "      <td>-999.0</td>\n",
       "      <td>-999.0</td>\n",
       "      <td>...</td>\n",
       "      <td>-0.03</td>\n",
       "      <td>1.0</td>\n",
       "      <td>0.0</td>\n",
       "      <td>1.0</td>\n",
       "      <td>0.0</td>\n",
       "      <td>1.0</td>\n",
       "      <td>1</td>\n",
       "      <td>1.0</td>\n",
       "      <td>1.0</td>\n",
       "      <td>0.0</td>\n",
       "    </tr>\n",
       "    <tr>\n",
       "      <th>1</th>\n",
       "      <td>1</td>\n",
       "      <td>87.0</td>\n",
       "      <td>98.0</td>\n",
       "      <td>36.30</td>\n",
       "      <td>94.5</td>\n",
       "      <td>71.5</td>\n",
       "      <td>-999.0</td>\n",
       "      <td>21.0</td>\n",
       "      <td>-999.0</td>\n",
       "      <td>-999.0</td>\n",
       "      <td>...</td>\n",
       "      <td>-0.03</td>\n",
       "      <td>2.0</td>\n",
       "      <td>0.0</td>\n",
       "      <td>1.0</td>\n",
       "      <td>0.0</td>\n",
       "      <td>1.0</td>\n",
       "      <td>1</td>\n",
       "      <td>1.0</td>\n",
       "      <td>1.0</td>\n",
       "      <td>0.0</td>\n",
       "    </tr>\n",
       "    <tr>\n",
       "      <th>2</th>\n",
       "      <td>1</td>\n",
       "      <td>85.0</td>\n",
       "      <td>97.0</td>\n",
       "      <td>36.30</td>\n",
       "      <td>89.0</td>\n",
       "      <td>62.0</td>\n",
       "      <td>-999.0</td>\n",
       "      <td>22.0</td>\n",
       "      <td>-999.0</td>\n",
       "      <td>-999.0</td>\n",
       "      <td>...</td>\n",
       "      <td>-0.03</td>\n",
       "      <td>3.0</td>\n",
       "      <td>0.0</td>\n",
       "      <td>1.0</td>\n",
       "      <td>0.0</td>\n",
       "      <td>1.0</td>\n",
       "      <td>1</td>\n",
       "      <td>1.0</td>\n",
       "      <td>1.0</td>\n",
       "      <td>1.0</td>\n",
       "    </tr>\n",
       "    <tr>\n",
       "      <th>3</th>\n",
       "      <td>1</td>\n",
       "      <td>83.0</td>\n",
       "      <td>97.0</td>\n",
       "      <td>36.28</td>\n",
       "      <td>104.0</td>\n",
       "      <td>66.0</td>\n",
       "      <td>-999.0</td>\n",
       "      <td>22.0</td>\n",
       "      <td>-999.0</td>\n",
       "      <td>30.0</td>\n",
       "      <td>...</td>\n",
       "      <td>-0.03</td>\n",
       "      <td>4.0</td>\n",
       "      <td>0.0</td>\n",
       "      <td>1.0</td>\n",
       "      <td>0.0</td>\n",
       "      <td>1.0</td>\n",
       "      <td>1</td>\n",
       "      <td>1.0</td>\n",
       "      <td>0.0</td>\n",
       "      <td>1.0</td>\n",
       "    </tr>\n",
       "    <tr>\n",
       "      <th>4</th>\n",
       "      <td>1</td>\n",
       "      <td>81.0</td>\n",
       "      <td>98.0</td>\n",
       "      <td>36.28</td>\n",
       "      <td>87.0</td>\n",
       "      <td>67.0</td>\n",
       "      <td>-999.0</td>\n",
       "      <td>18.0</td>\n",
       "      <td>-999.0</td>\n",
       "      <td>-999.0</td>\n",
       "      <td>...</td>\n",
       "      <td>-0.03</td>\n",
       "      <td>5.0</td>\n",
       "      <td>0.0</td>\n",
       "      <td>1.0</td>\n",
       "      <td>0.0</td>\n",
       "      <td>1.0</td>\n",
       "      <td>0</td>\n",
       "      <td>1.0</td>\n",
       "      <td>1.0</td>\n",
       "      <td>1.0</td>\n",
       "    </tr>\n",
       "  </tbody>\n",
       "</table>\n",
       "<p>5 rows × 33 columns</p>\n",
       "</div>"
      ],
      "text/plain": [
       "   patient_id    HR  O2Sat   Temp    SBP   MAP    DBP  Resp  BaseExcess  \\\n",
       "0           1  87.0   98.0  36.30   94.5  71.5 -999.0  21.0      -999.0   \n",
       "1           1  87.0   98.0  36.30   94.5  71.5 -999.0  21.0      -999.0   \n",
       "2           1  85.0   97.0  36.30   89.0  62.0 -999.0  22.0      -999.0   \n",
       "3           1  83.0   97.0  36.28  104.0  66.0 -999.0  22.0      -999.0   \n",
       "4           1  81.0   98.0  36.28   87.0  67.0 -999.0  18.0      -999.0   \n",
       "\n",
       "    HCO3  ...  HospAdmTime  ICULOS  SepsisLabel  age_label  hr_label  \\\n",
       "0 -999.0  ...        -0.03     1.0          0.0        1.0       0.0   \n",
       "1 -999.0  ...        -0.03     2.0          0.0        1.0       0.0   \n",
       "2 -999.0  ...        -0.03     3.0          0.0        1.0       0.0   \n",
       "3   30.0  ...        -0.03     4.0          0.0        1.0       0.0   \n",
       "4 -999.0  ...        -0.03     5.0          0.0        1.0       0.0   \n",
       "\n",
       "   temp_label  resp_label  paco2_label  sbp_label  map_label  \n",
       "0         1.0           1          1.0        1.0        0.0  \n",
       "1         1.0           1          1.0        1.0        0.0  \n",
       "2         1.0           1          1.0        1.0        1.0  \n",
       "3         1.0           1          1.0        0.0        1.0  \n",
       "4         1.0           0          1.0        1.0        1.0  \n",
       "\n",
       "[5 rows x 33 columns]"
      ]
     },
     "execution_count": 91,
     "metadata": {},
     "output_type": "execute_result"
    }
   ],
   "source": [
    "train_df.head()"
   ]
  },
  {
   "cell_type": "code",
   "execution_count": 92,
   "id": "9e2cf4d1",
   "metadata": {},
   "outputs": [],
   "source": [
    "train_df.to_csv('../dataset/train_cleaned.csv', sep='|', index=False)\n",
    "val_df.to_csv('../dataset/val_cleaned.csv', sep='|', index=False)"
   ]
  },
  {
   "cell_type": "code",
   "execution_count": null,
   "id": "e5d544d3",
   "metadata": {},
   "outputs": [],
   "source": []
  }
 ],
 "metadata": {
  "kernelspec": {
   "display_name": "Python 3 (classification)",
   "language": "python",
   "name": "classification"
  },
  "language_info": {
   "codemirror_mode": {
    "name": "ipython",
    "version": 3
   },
   "file_extension": ".py",
   "mimetype": "text/x-python",
   "name": "python",
   "nbconvert_exporter": "python",
   "pygments_lexer": "ipython3",
   "version": "3.8.13"
  }
 },
 "nbformat": 4,
 "nbformat_minor": 5
}
