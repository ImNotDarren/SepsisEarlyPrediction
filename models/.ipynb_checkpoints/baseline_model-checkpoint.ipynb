{
 "cells": [
  {
   "cell_type": "code",
   "execution_count": 9,
   "id": "c7fdf762",
   "metadata": {},
   "outputs": [],
   "source": [
    "import pandas as pd\n",
    "import numpy as np\n",
    "from imblearn.ensemble import BalancedBaggingClassifier\n",
    "from sklearn.tree import DecisionTreeClassifier\n",
    "from sklearn.metrics import f1_score\n",
    "from sklearn.model_selection import cross_val_score, RepeatedStratifiedKFold\n",
    "import seaborn as sns\n",
    "import matplotlib.pyplot as plt\n",
    "%matplotlib inline"
   ]
  },
  {
   "cell_type": "code",
   "execution_count": 2,
   "id": "47cfdd33",
   "metadata": {},
   "outputs": [],
   "source": [
    "train_df = pd.read_csv('../dataset/train_cleaned.csv', sep='|')\n",
    "val_df = pd.read_csv('../dataset/val_cleaned.csv', sep='|')\n",
    "test_df = pd.read_csv('../dataset/test_cleaned.csv', sep='|')"
   ]
  },
  {
   "cell_type": "code",
   "execution_count": 3,
   "id": "b5d88807",
   "metadata": {},
   "outputs": [
    {
     "data": {
      "text/plain": [
       "Index(['patient_id', 'HR', 'O2Sat', 'Temp', 'SBP', 'MAP', 'DBP', 'Resp',\n",
       "       'BaseExcess', 'HCO3', 'FiO2', 'pH', 'PaCO2', 'BUN', 'Chloride',\n",
       "       'Glucose', 'Magnesium', 'Potassium', 'Hct', 'Hgb', 'WBC', 'Age',\n",
       "       'Gender', 'HospAdmTime', 'ICULOS', 'SepsisLabel'],\n",
       "      dtype='object')"
      ]
     },
     "execution_count": 3,
     "metadata": {},
     "output_type": "execute_result"
    }
   ],
   "source": [
    "train_df.columns"
   ]
  },
  {
   "cell_type": "code",
   "execution_count": 7,
   "id": "63c210f6",
   "metadata": {},
   "outputs": [
    {
     "data": {
      "text/plain": [
       "0.9081423906394365"
      ]
     },
     "execution_count": 7,
     "metadata": {},
     "output_type": "execute_result"
    }
   ],
   "source": [
    "cfr = BalancedBaggingClassifier(base_estimator=DecisionTreeClassifier())\n",
    "X_train = train_df.drop(columns=['patient_id', 'SepsisLabel'])\n",
    "y_train = train_df.SepsisLabel\n",
    "X_val = val_df.drop(columns=['patient_id', 'SepsisLabel'])\n",
    "y_val = val_df.SepsisLabel\n",
    "cfr.fit(X_train, y_train)\n",
    "cfr.score(X_train, y_train)"
   ]
  },
  {
   "cell_type": "code",
   "execution_count": 5,
   "id": "eae7aaa1",
   "metadata": {},
   "outputs": [
    {
     "data": {
      "text/plain": [
       "0.13344220226291845"
      ]
     },
     "execution_count": 5,
     "metadata": {},
     "output_type": "execute_result"
    }
   ],
   "source": [
    "y_pred = cfr.predict(X_val)\n",
    "f1_score(y_val, y_pred)"
   ]
  },
  {
   "cell_type": "code",
   "execution_count": 18,
   "id": "8a37cc44",
   "metadata": {},
   "outputs": [],
   "source": [
    "cv = RepeatedStratifiedKFold(n_splits=5, n_repeats=3)\n",
    "scores = cross_val_score(cfr, X_val, y_val, scoring='roc_auc',\\\n",
    "                        cv=cv, n_jobs=-1)"
   ]
  },
  {
   "cell_type": "code",
   "execution_count": 19,
   "id": "8f99e2b8",
   "metadata": {},
   "outputs": [
    {
     "name": "stdout",
     "output_type": "stream",
     "text": [
      "ROC AUC: 0.919\n"
     ]
    }
   ],
   "source": [
    "print('ROC AUC: %.3f' % np.mean(scores))"
   ]
  },
  {
   "cell_type": "code",
   "execution_count": null,
   "id": "c1d148dd",
   "metadata": {},
   "outputs": [],
   "source": []
  }
 ],
 "metadata": {
  "kernelspec": {
   "display_name": "Python 3 (classification)",
   "language": "python",
   "name": "classification"
  },
  "language_info": {
   "codemirror_mode": {
    "name": "ipython",
    "version": 3
   },
   "file_extension": ".py",
   "mimetype": "text/x-python",
   "name": "python",
   "nbconvert_exporter": "python",
   "pygments_lexer": "ipython3",
   "version": "3.8.13"
  }
 },
 "nbformat": 4,
 "nbformat_minor": 5
}
