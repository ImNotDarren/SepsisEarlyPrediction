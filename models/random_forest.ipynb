{
 "cells": [
  {
   "cell_type": "code",
   "execution_count": 87,
   "id": "f22b7f5d",
   "metadata": {},
   "outputs": [],
   "source": [
    "import pandas as pd\n",
    "import numpy as np\n",
    "import os\n",
    "import math\n",
    "from imblearn.ensemble import BalancedBaggingClassifier, BalancedRandomForestClassifier\n",
    "from sklearn.tree import DecisionTreeClassifier\n",
    "from sklearn.metrics import f1_score, roc_curve\n",
    "from sklearn.model_selection import cross_val_score, RepeatedStratifiedKFold\n",
    "from sklearn.linear_model import LogisticRegression\n",
    "from xgboost import XGBClassifier\n",
    "import seaborn as sns\n",
    "import matplotlib.pyplot as plt\n",
    "import pickle as pkl\n",
    "%matplotlib inline"
   ]
  },
  {
   "cell_type": "code",
   "execution_count": 88,
   "id": "98b304eb",
   "metadata": {},
   "outputs": [],
   "source": [
    "train_df = pd.read_csv('../dataset/train_cleaned.csv', sep='|')\n",
    "val_df = pd.read_csv('../dataset/val_cleaned.csv', sep='|')"
   ]
  },
  {
   "cell_type": "code",
   "execution_count": 89,
   "id": "7fa050df",
   "metadata": {},
   "outputs": [],
   "source": [
    "X_train = train_df.drop(columns=['patient_id', 'SepsisLabel'])\n",
    "y_train = train_df.SepsisLabel\n",
    "X_val = val_df.drop(columns=['patient_id', 'SepsisLabel'])\n",
    "y_val = val_df.SepsisLabel"
   ]
  },
  {
   "cell_type": "code",
   "execution_count": 90,
   "id": "9114ad3b",
   "metadata": {},
   "outputs": [],
   "source": [
    "# class BaggingClassifier(object):\n",
    "#     def __init__(self, n_estimators):\n",
    "#         self.n_estimators = n_estimators\n",
    "#         self.classifiers = []\n",
    "        \n",
    "        \n",
    "#     def fit(self, X, y):\n",
    "#         for i in range(self.n_estimators):\n",
    "#             clf = DecisionTreeClassifier(max_depth=6,\n",
    "#                                          class_weight={0:1, 1:5})\n",
    "#             clf.fit(X, y)\n",
    "#             self.classifiers.append(clf)\n",
    "            \n",
    "#     def predict(self, X):\n",
    "#         results = []\n",
    "#         final_pred = []\n",
    "#         for clf in self.classifiers:\n",
    "#             res = clf.predict(X)\n",
    "#             results.append(res)\n",
    "        \n",
    "    \n",
    "            "
   ]
  },
  {
   "cell_type": "code",
   "execution_count": 97,
   "id": "5f706af8",
   "metadata": {},
   "outputs": [
    {
     "data": {
      "text/plain": [
       "0.14908668567205152"
      ]
     },
     "execution_count": 97,
     "metadata": {},
     "output_type": "execute_result"
    }
   ],
   "source": [
    "clf = BalancedRandomForestClassifier(n_estimators=300,\n",
    "                                     max_depth=12,\n",
    "                                     bootstrap=True,\n",
    "                                     class_weight={0:1.5, 1:1})\n",
    "clf.fit(X_train, y_train)\n",
    "\n",
    "# get f1 score\n",
    "y_pred = clf.predict(X_val)\n",
    "f1_score(y_val, y_pred)"
   ]
  },
  {
   "cell_type": "code",
   "execution_count": 98,
   "id": "02c1102b",
   "metadata": {},
   "outputs": [
    {
     "data": {
      "text/plain": [
       "0.8646694822041796"
      ]
     },
     "execution_count": 98,
     "metadata": {},
     "output_type": "execute_result"
    }
   ],
   "source": [
    "clf.score(X_val, y_val)"
   ]
  },
  {
   "cell_type": "code",
   "execution_count": 99,
   "id": "d93b02ea",
   "metadata": {},
   "outputs": [
    {
     "name": "stdout",
     "output_type": "stream",
     "text": [
      "ROC AUC: 0.862\n"
     ]
    }
   ],
   "source": [
    "cv = RepeatedStratifiedKFold(n_splits=5, n_repeats=3)\n",
    "scores = cross_val_score(clf, X_val, y_val, scoring='roc_auc',\\\n",
    "                        cv=cv, n_jobs=-1)\n",
    "print('ROC AUC: %.3f' % np.mean(scores))"
   ]
  },
  {
   "cell_type": "code",
   "execution_count": 94,
   "id": "6d4a88bb",
   "metadata": {},
   "outputs": [],
   "source": [
    "y_pred_proba = clf.predict_proba(X_val)[::, 1]\n",
    "fpr, tpr, _ = roc_curve(y_val, y_pred_proba)"
   ]
  },
  {
   "cell_type": "code",
   "execution_count": 95,
   "id": "72381672",
   "metadata": {},
   "outputs": [
    {
     "data": {
      "image/png": "[encoded data removed]",
      "text/plain": [
       "<Figure size 432x288 with 1 Axes>"
      ]
     },
     "metadata": {
      "needs_background": "light"
     },
     "output_type": "display_data"
    }
   ],
   "source": [
    "plt.plot(fpr, tpr, label='AUC = ' + str(np.mean(scores)))\n",
    "plt.ylabel('True Positive Rate')\n",
    "plt.xlabel('False Positive Rate')\n",
    "plt.legend(loc=4)\n",
    "plt.show()"
   ]
  },
  {
   "cell_type": "code",
   "execution_count": 100,
   "id": "5a5baafa",
   "metadata": {},
   "outputs": [],
   "source": [
    "with open('../BRFC.pkl', 'wb') as file:\n",
    "    pkl.dump(clf, file)"
   ]
  },
  {
   "cell_type": "code",
   "execution_count": null,
   "id": "087d148d",
   "metadata": {},
   "outputs": [],
   "source": []
  }
 ],
 "metadata": {
  "kernelspec": {
   "display_name": "Python 3 (classification)",
   "language": "python",
   "name": "classification"
  },
  "language_info": {
   "codemirror_mode": {
    "name": "ipython",
    "version": 3
   },
   "file_extension": ".py",
   "mimetype": "text/x-python",
   "name": "python",
   "nbconvert_exporter": "python",
   "pygments_lexer": "ipython3",
   "version": "3.8.13"
  }
 },
 "nbformat": 4,
 "nbformat_minor": 5
}
